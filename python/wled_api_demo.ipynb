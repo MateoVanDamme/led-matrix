{
 "cells": [
  {
   "cell_type": "markdown",
   "id": "2ec9644b",
   "metadata": {},
   "source": [
    "# Pixel flood\n",
    "\n",
    "\"Pixel flut\" according to some. \n",
    "\n",
    "Link to [JSON API](https://kno.wled.ge/interfaces/json-api/) of WLED. "
   ]
  },
  {
   "cell_type": "markdown",
   "id": "b54a2213",
   "metadata": {},
   "source": [
    "### Get current state"
   ]
  },
  {
   "cell_type": "code",
   "execution_count": 1,
   "id": "2c9c7a3e",
   "metadata": {},
   "outputs": [
    {
     "name": "stdout",
     "output_type": "stream",
     "text": [
      "WLED State:\n",
      "{\n",
      "    \"on\": true,\n",
      "    \"bri\": 128,\n",
      "    \"transition\": 7,\n",
      "    \"ps\": -1,\n",
      "    \"pl\": -1,\n",
      "    \"ledmap\": 0,\n",
      "    \"nl\": {\n",
      "        \"on\": false,\n",
      "        \"dur\": 60,\n",
      "        \"mode\": 1,\n",
      "        \"tbri\": 0,\n",
      "        \"rem\": -1\n",
      "    },\n",
      "    \"udpn\": {\n",
      "        \"send\": false,\n",
      "        \"recv\": true,\n",
      "        \"sgrp\": 1,\n",
      "        \"rgrp\": 1\n",
      "    },\n",
      "    \"lor\": 0,\n",
      "    \"mainseg\": 0,\n",
      "    \"seg\": [\n",
      "        {\n",
      "            \"id\": 0,\n",
      "            \"start\": 0,\n",
      "            \"stop\": 256,\n",
      "            \"len\": 256,\n",
      "            \"grp\": 1,\n",
      "            \"spc\": 0,\n",
      "            \"of\": 0,\n",
      "            \"on\": true,\n",
      "            \"frz\": true,\n",
      "            \"bri\": 255,\n",
      "            \"cct\": 127,\n",
      "            \"set\": 0,\n",
      "            \"col\": [\n",
      "                [\n",
      "                    255,\n",
      "                    160,\n",
      "                    0\n",
      "                ],\n",
      "                [\n",
      "                    0,\n",
      "                    0,\n",
      "                    0\n",
      "                ],\n",
      "                [\n",
      "                    0,\n",
      "                    0,\n",
      "                    0\n",
      "                ]\n",
      "            ],\n",
      "            \"fx\": 0,\n",
      "            \"sx\": 128,\n",
      "            \"ix\": 128,\n",
      "            \"pal\": 0,\n",
      "            \"c1\": 128,\n",
      "            \"c2\": 128,\n",
      "            \"c3\": 16,\n",
      "            \"sel\": true,\n",
      "            \"rev\": false,\n",
      "            \"mi\": false,\n",
      "            \"o1\": false,\n",
      "            \"o2\": false,\n",
      "            \"o3\": false,\n",
      "            \"si\": 0,\n",
      "            \"m12\": 0\n",
      "        }\n",
      "    ]\n",
      "}\n"
     ]
    }
   ],
   "source": [
    "import requests\n",
    "import json\n",
    "url = \"http://led-matrix.local/json/state\"\n",
    "\n",
    "response = requests.get(url)\n",
    "\n",
    "if response.ok:\n",
    "    state = response.json()\n",
    "    print(\"WLED State:\")\n",
    "    print(json.dumps(state, indent=4))  # Nicely formatted output\n",
    "else:\n",
    "    print(\"Failed to get state. Status Code:\", response.status_code)\n"
   ]
  },
  {
   "cell_type": "markdown",
   "id": "390cf7c1",
   "metadata": {},
   "source": [
    "### Setting an individual pixel"
   ]
  },
  {
   "cell_type": "code",
   "execution_count": 2,
   "id": "9a808339",
   "metadata": {},
   "outputs": [
    {
     "name": "stdout",
     "output_type": "stream",
     "text": [
      "Status Code: 200\n",
      "Response: {\"success\":true}\n"
     ]
    }
   ],
   "source": [
    "\n",
    "\n",
    "url = \"http://led-matrix.local/json/state\"\n",
    "\n",
    "payload = {\n",
    "    \"on\": True,\n",
    "    \"seg\": [\n",
    "        {\n",
    "            \"id\": 0,\n",
    "            \"i\": [12, \"FF0000\"]\n",
    "        }\n",
    "    ]\n",
    "}\n",
    "\n",
    "headers = {\n",
    "    \"Content-Type\": \"application/json\"\n",
    "}\n",
    "\n",
    "response = requests.post(url, headers=headers, data=json.dumps(payload))\n",
    "\n",
    "print(\"Status Code:\", response.status_code)\n",
    "print(\"Response:\", response.text)\n",
    "\n"
   ]
  },
  {
   "cell_type": "markdown",
   "id": "8ec011f7",
   "metadata": {},
   "source": [
    "### Sending an image\n",
    "\n",
    "```\n",
    "curl -X POST http://led-matrix.local/json/state -H \"Content-Type: application/json\" -d \"{\\\"on\\\":true, \\\"seg\\\":[{\\\"id\\\":0,\\\"i\\\":[\\\"FF0000\\\",\\\"FF0000\\\",\\\"FF0000\\\"]}]}\"\n",
    "```"
   ]
  },
  {
   "cell_type": "code",
   "execution_count": 3,
   "id": "e14c258b",
   "metadata": {},
   "outputs": [
    {
     "name": "stdout",
     "output_type": "stream",
     "text": [
      "Status Code: 200\n",
      "Response: {\"success\":true}\n"
     ]
    }
   ],
   "source": [
    "import requests\n",
    "import json\n",
    "\n",
    "url = \"http://led-matrix.local/json/state\"\n",
    "\n",
    "payload = {\n",
    "    \"on\": True,\n",
    "    \"seg\": [\n",
    "        {\n",
    "            \"id\": 0,\n",
    "            \"i\": [\"FF0000\", \"00FF00\", \"0000FF\"]\n",
    "        }\n",
    "    ]\n",
    "}\n",
    "\n",
    "headers = {\n",
    "    \"Content-Type\": \"application/json\"\n",
    "}\n",
    "\n",
    "response = requests.post(url, headers=headers, data=json.dumps(payload))\n",
    "\n",
    "print(\"Status Code:\", response.status_code)\n",
    "print(\"Response:\", response.text)\n",
    "\n"
   ]
  },
  {
   "cell_type": "code",
   "execution_count": 4,
   "id": "a8990623",
   "metadata": {},
   "outputs": [],
   "source": [
    "from scripts.wled_uploader import send_image_to_wled\n",
    "\n",
    "# Example usage\n",
    "send_image_to_wled(\"../images/cat.png\", \"led-matrix.local\")"
   ]
  }
 ],
 "metadata": {
  "kernelspec": {
   "display_name": "Python 3",
   "language": "python",
   "name": "python3"
  },
  "language_info": {
   "codemirror_mode": {
    "name": "ipython",
    "version": 3
   },
   "file_extension": ".py",
   "mimetype": "text/x-python",
   "name": "python",
   "nbconvert_exporter": "python",
   "pygments_lexer": "ipython3",
   "version": "3.12.10"
  }
 },
 "nbformat": 4,
 "nbformat_minor": 5
}
